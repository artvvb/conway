{
 "cells": [
  {
   "cell_type": "code",
   "execution_count": 187,
   "metadata": {},
   "outputs": [],
   "source": [
    "import numpy as np\n",
    "class memory_model:\n",
    "    def __init__(self, size=4, copy=None):\n",
    "        if copy is None:\n",
    "            self.data = np.random.randint(low=0, high=2, size=size)\n",
    "        else:\n",
    "            self.data = np.copy(copy.data)\n",
    "        self.already_wrote_this_clock = False\n",
    "        self.already_read_this_clock = False\n",
    "        self.read_accesses = 0\n",
    "    def write(self, addr, data):\n",
    "        assert not self.already_wrote_this_clock\n",
    "        self.data[addr] = data\n",
    "        self.already_wrote_this_clock = True\n",
    "    def read(self, addr):\n",
    "        assert self.read_accesses == 0\n",
    "        self.read_accesses += 1\n",
    "        return self.data[addr]\n",
    "    def observe(self, addr): # fake read, do not use for hardware modeling, use for observing state in sim\n",
    "        return self.data[addr]\n",
    "    def clock(self):\n",
    "        self.already_wrote_this_clock = False\n",
    "        self.read_accesses = 0\n"
   ]
  },
  {
   "cell_type": "markdown",
   "metadata": {},
   "source": [
    "X0Y0(A) X1Y0(B) X2Y0(C)\n",
    "X0Y1(D) X1Y1(E) X2Y1(F)\n",
    "X0Y2(G) X1Y2(H) X2Y2(I)"
   ]
  },
  {
   "cell_type": "markdown",
   "metadata": {},
   "source": [
    "ABCABC\n",
    "DEFDEF\n",
    "GHIGHI\n",
    "ABCABC\n",
    "DEFDEF\n",
    "GHIGHI"
   ]
  },
  {
   "cell_type": "code",
   "execution_count": 215,
   "metadata": {},
   "outputs": [],
   "source": [
    "center_gold = np.array(\n",
    "              [[0,0], [0,1], [0,2], [0,0], [0,1], [0,2],\n",
    "               [1,0], [1,1], [1,2], [1,0], [1,1], [1,2], \n",
    "               [2,0], [2,1], [2,2], [2,0], [2,1], [2,2], \n",
    "               [0,0], [0,1], [0,2], [0,0], [0,1], [0,2], \n",
    "               [1,0], [1,1], [1,2], [1,0], [1,1], [1,2], \n",
    "               [2,0], [2,1], [2,2], [2,0], [2,1], [2,2]]\n",
    ")\n",
    "\n",
    "write_gold = np.array(\n",
    "             [[[0,    None, None, 1,    None, None,   None, None, None, None, None, None,   None, None, None, None, None, None,   2,    None, None, 3,    None, None,   None, None, None, None, None, None,   None, None, None, None, None, None],\n",
    "               [None, 0,    None, None, 1,    None,   None, None, None, None, None, None,   None, None, None, None, None, None,   None, 2,    None, None, 3,    None,   None, None, None, None, None, None,   None, None, None, None, None, None],\n",
    "               [None, None, 0,    None, None, 1,      None, None, None, None, None, None,   None, None, None, None, None, None,   None, None, 2,    None, None, 3,      None, None, None, None, None, None,   None, None, None, None, None, None]],\n",
    "              [[None, None, None, None, None, None,   0,    None, None, 1,    None, None,   None, None, None, None, None, None,   None, None, None, None, None, None,   2,    None, None, 3,    None, None,   None, None, None, None, None, None],\n",
    "               [None, None, None, None, None, None,   None, 0,    None, None, 1,    None,   None, None, None, None, None, None,   None, None, None, None, None, None,   None, 2,    None, None, 3,    None,   None, None, None, None, None, None],\n",
    "               [None, None, None, None, None, None,   None, None, 0,    None, None, 1,      None, None, None, None, None, None,   None, None, None, None, None, None,   None, None, 2,    None, None, 3,      None, None, None, None, None, None]],\n",
    "              [[None, None, None, None, None, None,   None, None, None, None, None, None,   0,    None, None, 1,    None, None,   None, None, None, None, None, None,   None, None, None, None, None, None,   2,    None, None, 3,    None, None],\n",
    "               [None, None, None, None, None, None,   None, None, None, None, None, None,   None, 0,    None, None, 1,    None,   None, None, None, None, None, None,   None, None, None, None, None, None,   None, 2,    None, None, 3,    None],\n",
    "               [None, None, None, None, None, None,   None, None, None, None, None, None,   None, None, 0,    None, None, 1,      None, None, None, None, None, None,   None, None, None, None, None, None,   None, None, 2,    None, None, 3   ]]]\n",
    ")\n",
    "\n",
    "read_gold = np.array(\n",
    "            [[[0,    0,    1,    1,    1,    None,   0,    0,    1,    1,    1,    None,   2,    2,    3,    3,    3,    None,   2,    2,    3,    3,    3,    None,   2,    2,    3,    3,    3,    None,   None, None, None, None, None, None],\n",
    "              [0,    0,    0,    1,    1,    1,      0,    0,    0,    1,    1,    1,      2,    2,    2,    3,    3,    3,      2,    2,    2,    3,    3,    3,      2,    2,    2,    3,    3,    3,      None, None, None, None, None, None],\n",
    "              [None, 0,    0,    0,    1,    1,      None, 0,    0,    0,    1,    1,      None, 2,    2,    2,    3,    3,      None, 2,    2,    2,    3,    3,      None, 2,    2,    2,    3,    3,      None, None, None, None, None, None]],\n",
    "             [[0,    0,    1,    1,    1,    None,   0,    0,    1,    1,    1,    None,   0,    0,    1,    1,    1,    None,   2,    2,    3,    3,    3,    None,   2,    2,    3,    3,    3,    None,   2,    2,    3,    3,    3,    None],\n",
    "              [0,    0,    0,    1,    1,    1,      0,    0,    0,    1,    1,    1,      0,    0,    0,    1,    1,    1,      2,    2,    2,    3,    3,    3,      2,    2,    2,    3,    3,    3,      2,    2,    2,    3,    3,    3   ],\n",
    "              [None, 0,    0,    0,    1,    1,      None, 0,    0,    0,    1,    1,      None, 0,    0,    0,    1,    1,      None, 2,    2,    2,    3,    3,      None, 2,    2,    2,    3,    3,      None, 2,    2,    2,    3,    3   ]],\n",
    "             [[None, None, None, None, None, None,   0,    0,    1,    1,    1,    None,   0,    0,    1,    1,    1,    None,   0,    0,    1,    1,    1,    None,   2,    2,    3,    3,    3,    None,   2,    2,    3,    3,    3,    None],\n",
    "              [None, None, None, None, None, None,   0,    0,    0,    1,    1,    1,      0,    0,    0,    1,    1,    1,      0,    0,    0,    1,    1,    1,      2,    2,    2,    3,    3,    3,      2,    2,    2,    3,    3,    3   ],\n",
    "              [None, None, None, None, None, None,   None, 0,    0,    0,    1,    1,      None, 0,    0,    0,    1,    1,      None, 0,    0,    0,    1,    1,      None, 2,    2,    2,    3,    3,      None, 2,    2,    2,    3,    3   ]]]\n",
    ")"
   ]
  },
  {
   "cell_type": "code",
   "execution_count": 216,
   "metadata": {},
   "outputs": [
    {
     "name": "stdout",
     "output_type": "stream",
     "text": [
      "======    ======\n",
      "011010    011010\n",
      "000000    000000\n",
      "000010    000010\n",
      "011101 -> 011101\n",
      "010000    010000\n",
      "001001    001001\n",
      "======    ======\n"
     ]
    }
   ],
   "source": [
    "def conway (center, others):\n",
    "    count = sum(others)\n",
    "    if center:\n",
    "        if count < 2 or count > 3:\n",
    "            return 0\n",
    "        else:\n",
    "            return 1\n",
    "    else:\n",
    "        if count == 3:\n",
    "            return 1\n",
    "        else:\n",
    "            return 0\n",
    "\n",
    "def print_memory_contents(memories, primary):\n",
    "    global clock\n",
    "    print(\"======    ======\")\n",
    "    for y1 in range(2):\n",
    "        for y2 in range(3):\n",
    "            for x1 in range(2):\n",
    "                for x2 in range(3):\n",
    "                    print(memories[primary][y2][x2].observe(y1*2+x1), end='')\n",
    "            print(' -> ' if y1*3+y2 == 3 else '    ', end='')\n",
    "            for x1 in range(2):\n",
    "                for x2 in range(3):\n",
    "                    print(memories[flip(primary)][y2][x2].observe(y1*2+x1), end='')\n",
    "            print()\n",
    "    print(\"======    ======\")\n",
    "\n",
    "flip = lambda val: 1 if val == 0 else 0\n",
    "\n",
    "memories = [[[memory_model(4) for x in range(3)] for y in range(3)]]\n",
    "memories.append([[memory_model(4, copy=memories[0][y][x]) for x in range(3)] for y in range(3)])\n",
    "\n",
    "clock = 0\n",
    "trace_y, trace_x = 0, 0\n",
    "primary = 0\n",
    "n = 0\n",
    "\n",
    "print_memory_contents(memories, primary)\n"
   ]
  },
  {
   "cell_type": "code",
   "execution_count": 230,
   "metadata": {},
   "outputs": [
    {
     "name": "stdout",
     "output_type": "stream",
     "text": [
      "primary 0\n"
     ]
    }
   ],
   "source": [
    "def do_clock(memories):\n",
    "    global clock\n",
    "    global trace_y\n",
    "    global trace_x\n",
    "    global primary\n",
    "\n",
    "    local_clock = clock % 36\n",
    "    center_mem = center_gold[local_clock]\n",
    "    center_addr = write_gold[center_gold[local_clock][0]][center_gold[local_clock][1]][local_clock]\n",
    "    center = memories[primary][center_gold[local_clock][0]][center_gold[local_clock][1]].read(center_addr)\n",
    "\n",
    "    others = np.array([[(y, x) for x in range(3)] for y in range(3)]).reshape(9, 2)\n",
    "    others = [c for c in others if np.any(c != center_gold[local_clock])]\n",
    "    others = [memories[primary][c[0]][c[1]].read(read_gold[c[0]][c[1]][local_clock]) for c in others if not read_gold[c[0]][c[1]][local_clock] is None]\n",
    "\n",
    "    result = conway(center, others)\n",
    "    memories[flip(primary)][center_gold[local_clock][0]][center_gold[local_clock][1]].write(center_addr, result)\n",
    "\n",
    "    if local_clock == 35:\n",
    "        print(f\"=== clock {clock}; result {result}; neighbors {sum(others)}; center {center_mem} ===\")\n",
    "        print_memory_contents(memories, primary)\n",
    "\n",
    "    for y in range(3):\n",
    "        for x in range(3):\n",
    "            memories[primary][y][x].clock()\n",
    "            memories[flip(primary)][y][x].clock()\n",
    "    \n",
    "    clock += 1\n",
    "    if (trace_x == 5):\n",
    "        if (trace_y == 5):\n",
    "            trace_y = 0\n",
    "            print(\"test\")\n",
    "        else:\n",
    "            trace_y += 1\n",
    "        trace_x = 0\n",
    "\n",
    "\n",
    "\n",
    "n = 0\n",
    "print(f'primary {primary}')\n",
    "while n < 36:\n",
    "    do_clock(memories)\n",
    "    n += 1\n",
    "primary = flip(primary)"
   ]
  },
  {
   "cell_type": "markdown",
   "metadata": {},
   "source": [
    "======    ======\n",
    "100100    110000\n",
    "110010    110001\n",
    "001111    101000\n",
    "100111 -> 100001\n",
    "110000    000110\n",
    "111000    101000\n",
    "======    ======"
   ]
  },
  {
   "cell_type": "code",
   "execution_count": null,
   "metadata": {},
   "outputs": [],
   "source": []
  },
  {
   "cell_type": "code",
   "execution_count": null,
   "metadata": {},
   "outputs": [],
   "source": []
  }
 ],
 "metadata": {
  "kernelspec": {
   "display_name": "Python 3",
   "language": "python",
   "name": "python3"
  },
  "language_info": {
   "codemirror_mode": {
    "name": "ipython",
    "version": 3
   },
   "file_extension": ".py",
   "mimetype": "text/x-python",
   "name": "python",
   "nbconvert_exporter": "python",
   "pygments_lexer": "ipython3",
   "version": "3.11.3"
  },
  "orig_nbformat": 4
 },
 "nbformat": 4,
 "nbformat_minor": 2
}
